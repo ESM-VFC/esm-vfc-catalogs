{
 "cells": [
  {
   "cell_type": "markdown",
   "metadata": {},
   "source": [
    "# PoC for fetching data from Zenodo based on a DOI"
   ]
  },
  {
   "cell_type": "markdown",
   "metadata": {},
   "source": [
    "## An example catalog\n",
    "\n",
    "We want to have a catalog pointing to data on disk and having a Zenodo DOI as metadata.\n",
    "Then, we want to be able to download all files from Zenodo that match files really needed in the catalog."
   ]
  },
  {
   "cell_type": "code",
   "execution_count": 1,
   "metadata": {},
   "outputs": [
    {
     "name": "stdout",
     "output_type": "stream",
     "text": [
      "Overwriting fesom2_catalog.yaml\n"
     ]
    }
   ],
   "source": [
    "%%file fesom2_catalog.yaml\n",
    "\n",
    "## TODO: We'd like to only specify the zenodo_doi\n",
    "\n",
    "metadata:\n",
    "  version: 1\n",
    "\n",
    "plugins:\n",
    "  source:\n",
    "      - module: intake_xarray\n",
    "\n",
    "sources:\n",
    "\n",
    "  FESOM2_sample:\n",
    "    driver: netcdf\n",
    "    description: 'FESOM2 Sample dataset'\n",
    "    metadata:\n",
    "      zenodo_doi: \"10.5281/zenodo.3819896\"\n",
    "    args:\n",
    "      urlpath: \"{{env('ESM_VFC_DATA_DIR')}}/FESOM2_PI_MESH/*.fesom.1948.nc\"\n",
    "      xarray_kwargs:\n",
    "        decode_cf: False\n",
    "        combine: 'by_coords'\n",
    "\n",
    "  # CAUTION: The following is broken with current intake caching!\n",
    "            \n",
    "  MESH_NOD2D:\n",
    "    driver: csv\n",
    "    description: 'Node locations of sample FESOM pi mesh'\n",
    "    metadata:\n",
    "      zenodo_doi: \"10.5281/zenodo.3819896\"\n",
    "    args:\n",
    "      urlpath: \"{{env('ESM_VFC_DATA_DIR')}}/FESOM2_PI_MESH/pi.tar.gz\"\n",
    "      csv_kwargs:\n",
    "        delim_whitespace: True\n",
    "        skiprows: 1\n",
    "        names:\n",
    "          - \"node_number\"\n",
    "          - \"x\"\n",
    "          - \"y\"\n",
    "          - \"flag\"\n",
    "    cache:\n",
    "      - type: compressed\n",
    "        decomp: tgz\n",
    "        argkey: urlpath\n",
    "        regex_filter: 'nod2d.out'\n",
    "\n",
    "  MESH_ELEM2D:\n",
    "    driver: csv\n",
    "    description: 'Element locations of sample FESOM pi mesh'\n",
    "    metadata:\n",
    "      zenodo_doi: \"10.5281/zenodo.3819896\"\n",
    "    args:\n",
    "      urlpath: \"{{env('ESM_VFC_DATA_DIR')}}/FESOM2_PI_MESH/pi.tar.gz\"\n",
    "      csv_kwargs:\n",
    "        delim_whitespace: True\n",
    "        skiprows: 1\n",
    "        names:\n",
    "          - \"first_elem\"\n",
    "          - \"second_elem\"\n",
    "          - \"third_elem\"\n",
    "    cache:\n",
    "      - type: compressed\n",
    "        decomp: tgz\n",
    "        argkey: urlpath\n",
    "        regex_filter: 'elem2d.out'\n",
    "            \n",
    "  MESH_AUX3D:\n",
    "    driver: csv\n",
    "    description: 'Topography of sample FESMOM pi mesh'\n",
    "    metadata:\n",
    "      zenodo_doi: \"10.5281/zenodo.3819896\"\n",
    "    args:\n",
    "      urlpath: \"{{env('ESM_VFC_DATA_DIR')}}/FESOM2_PI_MESH/pi.tar.gz\"\n",
    "      csv_kwargs:\n",
    "        delim_whitespace: True\n",
    "        skiprows: 49\n",
    "        names:\n",
    "          - \"topo\"\n",
    "    cache:\n",
    "      - type: compressed\n",
    "        decomp: tgz\n",
    "        argkey: urlpath\n",
    "        regex_filter: 'aux3d.out'"
   ]
  },
  {
   "cell_type": "code",
   "execution_count": 2,
   "metadata": {},
   "outputs": [],
   "source": [
    "!rm -rf ~/.intake"
   ]
  },
  {
   "cell_type": "markdown",
   "metadata": {},
   "source": [
    "## Imports and paths"
   ]
  },
  {
   "cell_type": "code",
   "execution_count": 3,
   "metadata": {},
   "outputs": [],
   "source": [
    "import intake\n",
    "import requests\n",
    "import pycurl\n",
    "from urllib.parse import urlparse\n",
    "import os\n",
    "from pathlib import Path\n",
    "import logging\n",
    "\n",
    "import fnmatch\n",
    "import hashlib"
   ]
  },
  {
   "cell_type": "code",
   "execution_count": 4,
   "metadata": {},
   "outputs": [],
   "source": [
    "logging.basicConfig(format='%(levelname)s:%(message)s', level=logging.DEBUG)"
   ]
  },
  {
   "cell_type": "code",
   "execution_count": 5,
   "metadata": {},
   "outputs": [],
   "source": [
    "# parameters\n",
    "data_path = Path(\"../esm_vfc_data/\").resolve()"
   ]
  },
  {
   "cell_type": "code",
   "execution_count": 6,
   "metadata": {},
   "outputs": [],
   "source": [
    "os.environ[\"ESM_VFC_DATA_DIR\"] = str(data_path)"
   ]
  },
  {
   "cell_type": "markdown",
   "metadata": {},
   "source": [
    "## open catalog"
   ]
  },
  {
   "cell_type": "code",
   "execution_count": 7,
   "metadata": {},
   "outputs": [],
   "source": [
    "cat = intake.open_catalog(\"fesom2_catalog.yaml\")"
   ]
  },
  {
   "cell_type": "code",
   "execution_count": 8,
   "metadata": {},
   "outputs": [
    {
     "data": {
      "text/plain": [
       "['FESOM2_sample', 'MESH_NOD2D', 'MESH_ELEM2D', 'MESH_AUX3D']"
      ]
     },
     "execution_count": 8,
     "metadata": {},
     "output_type": "execute_result"
    }
   ],
   "source": [
    "list(cat)"
   ]
  },
  {
   "cell_type": "markdown",
   "metadata": {},
   "source": [
    "## How to pre-fetch the data?\n",
    "\n",
    "We need something to check hashes.  And we want to download just based on Zenodo DOI and filename pattern as used in the catalog etrie's `urlpath`."
   ]
  },
  {
   "cell_type": "code",
   "execution_count": 9,
   "metadata": {},
   "outputs": [],
   "source": [
    "def check_file(file_name, checksum, blocksize=65536):\n",
    "    \"\"\"Check if file satisfies checksum.\n",
    "    \n",
    "    Parameters\n",
    "    ----------\n",
    "    file_name : str | Path\n",
    "        File name to check.\n",
    "    checksum : str\n",
    "        Format f\"{algorithm}:{checksum}\"\n",
    "    blocksize : int\n",
    "        Defaults to 65536 (Bytes).\n",
    "        \n",
    "    Returns\n",
    "    -------\n",
    "    bool : True if checksum matches.\n",
    "\n",
    "    \"\"\"  \n",
    "    algorithm, target_hash = tuple(checksum.split(\":\"))\n",
    "    file_hash = hashlib.new(algorithm)\n",
    "    with open(file_name, \"rb\") as f:\n",
    "        while True:\n",
    "            chunk = f.read(blocksize)\n",
    "            if not chunk:\n",
    "                break\n",
    "            file_hash.update(chunk)\n",
    "    file_hash = file_hash.hexdigest()\n",
    "    \n",
    "    return file_hash == target_hash"
   ]
  },
  {
   "cell_type": "code",
   "execution_count": 10,
   "metadata": {},
   "outputs": [],
   "source": [
    "def download_zenodo_files(\n",
    "    zenodo_doi,\n",
    "    target_directory=None,\n",
    "    force_download=False,\n",
    "    filter_pattern=None\n",
    "):\n",
    "    \"\"\"Download zenodo files for a given DOI.\n",
    "    \n",
    "    Parameters\n",
    "    ----------\n",
    "    zenodo_doi : str\n",
    "        Zenodo DOI.  Example: \"10.5281/zenodo.3819896\"\n",
    "    target_directory : path or str\n",
    "        Target directory where all files will end up.\n",
    "    force_download : bool\n",
    "        Re-download and overwrite files even if they already exist?\n",
    "    filter_pattern : str\n",
    "        Pattern used to filter files.  Note that we use fnmatch and not regex.\n",
    "        \n",
    "    Returns\n",
    "    -------\n",
    "    list of paths : all target files.\n",
    "    \n",
    "    \"\"\"    \n",
    "    #     # check if we filter files\n",
    "    #     if filter_files is not None:\n",
    "    #         raise NotImplementedError(\"Filtering is not implemented yet\")\n",
    "\n",
    "    # get zenodo record ID from doi\n",
    "    zenodo_record = zenodo_doi.split('.')[-1]\n",
    "    logging.debug(f\"will download record {zenodo_record}\")\n",
    "    \n",
    "    # get full record from zenodo\n",
    "    # see https://developers.zenodo.org/#quickstart-upload for pointers\n",
    "    r = requests.get(f\"https://zenodo.org/api/records/{zenodo_record}\")\n",
    "    logging.debug(f\"got status code {r.status_code}\")\n",
    "    # should we debug-log the full json dump?\n",
    "\n",
    "    # TODO: Check that we got the correct DOI\n",
    "    \n",
    "    # get list of source urls\n",
    "    filtered_files = list(filter(\n",
    "        lambda fn: fnmatch.fnmatch(fn[\"key\"], filter_pattern),\n",
    "        r.json()[\"files\"]\n",
    "    ))\n",
    "    all_urls = [file[\"links\"][\"self\"] for file in filtered_files]\n",
    "    all_target_files = [\n",
    "        Path(target_directory) / Path(parsed_url.path).name\n",
    "        for parsed_url in map(urlparse, all_urls)\n",
    "    ]\n",
    "    all_checksums = [file[\"checksum\"] for file in filtered_files]\n",
    "    \n",
    "    # ensure target dir exists\n",
    "    Path(target_directory).mkdir(exist_ok=True, parents=True)\n",
    "    \n",
    "    # download all wanted files with curl\n",
    "    for url, file, checksum in zip(all_urls, all_target_files, all_checksums):\n",
    "        if not file.exists() or force_download:\n",
    "            with open(file, \"wb\") as f:\n",
    "                logging.debug(f\"will download {url} to {file}\")\n",
    "                c = pycurl.Curl()\n",
    "                c.setopt(c.URL, url)\n",
    "                c.setopt(c.WRITEDATA, f)\n",
    "                c.perform()\n",
    "                c.close()\n",
    "                logging.debug(f\"download of {url} to {file} done\")\n",
    "        # This checks all files even if they were not downloaded:\n",
    "        if not check_file(file_name=file, checksum=checksum):\n",
    "            raise ValueError(f\"Checksum for {file} does not match {checksum}\")\n",
    "    \n",
    "    return all_target_files"
   ]
  },
  {
   "cell_type": "markdown",
   "metadata": {},
   "source": [
    "## Download data"
   ]
  },
  {
   "cell_type": "code",
   "execution_count": 11,
   "metadata": {},
   "outputs": [
    {
     "name": "stderr",
     "output_type": "stream",
     "text": [
      "DEBUG:will download record 3819896\n",
      "DEBUG:Starting new HTTPS connection (1): zenodo.org:443\n",
      "DEBUG:https://zenodo.org:443 \"GET /api/records/3819896 HTTP/1.1\" 200 None\n",
      "DEBUG:got status code 200\n"
     ]
    },
    {
     "name": "stdout",
     "output_type": "stream",
     "text": [
      "CPU times: user 113 ms, sys: 48.1 ms, total: 161 ms\n",
      "Wall time: 964 ms\n"
     ]
    },
    {
     "data": {
      "text/plain": [
       "[PosixPath('/work/esm-vfc-catalogs/esm_vfc_data/FESOM2_PI_MESH/temp.fesom.1948.nc'),\n",
       " PosixPath('/work/esm-vfc-catalogs/esm_vfc_data/FESOM2_PI_MESH/salt.fesom.1948.nc'),\n",
       " PosixPath('/work/esm-vfc-catalogs/esm_vfc_data/FESOM2_PI_MESH/u.fesom.1948.nc'),\n",
       " PosixPath('/work/esm-vfc-catalogs/esm_vfc_data/FESOM2_PI_MESH/v.fesom.1948.nc'),\n",
       " PosixPath('/work/esm-vfc-catalogs/esm_vfc_data/FESOM2_PI_MESH/w.fesom.1948.nc'),\n",
       " PosixPath('/work/esm-vfc-catalogs/esm_vfc_data/FESOM2_PI_MESH/a_ice.fesom.1948.nc'),\n",
       " PosixPath('/work/esm-vfc-catalogs/esm_vfc_data/FESOM2_PI_MESH/m_ice.fesom.1948.nc'),\n",
       " PosixPath('/work/esm-vfc-catalogs/esm_vfc_data/FESOM2_PI_MESH/vice.fesom.1948.nc'),\n",
       " PosixPath('/work/esm-vfc-catalogs/esm_vfc_data/FESOM2_PI_MESH/uice.fesom.1948.nc'),\n",
       " PosixPath('/work/esm-vfc-catalogs/esm_vfc_data/FESOM2_PI_MESH/sst.fesom.1948.nc'),\n",
       " PosixPath('/work/esm-vfc-catalogs/esm_vfc_data/FESOM2_PI_MESH/ssh.fesom.1948.nc'),\n",
       " PosixPath('/work/esm-vfc-catalogs/esm_vfc_data/FESOM2_PI_MESH/MLD1.fesom.1948.nc'),\n",
       " PosixPath('/work/esm-vfc-catalogs/esm_vfc_data/FESOM2_PI_MESH/Kv.fesom.1948.nc'),\n",
       " PosixPath('/work/esm-vfc-catalogs/esm_vfc_data/FESOM2_PI_MESH/Av.fesom.1948.nc'),\n",
       " PosixPath('/work/esm-vfc-catalogs/esm_vfc_data/FESOM2_PI_MESH/vnod.fesom.1948.nc'),\n",
       " PosixPath('/work/esm-vfc-catalogs/esm_vfc_data/FESOM2_PI_MESH/unod.fesom.1948.nc'),\n",
       " PosixPath('/work/esm-vfc-catalogs/esm_vfc_data/FESOM2_PI_MESH/pi.tar.gz')]"
      ]
     },
     "execution_count": 11,
     "metadata": {},
     "output_type": "execute_result"
    }
   ],
   "source": [
    "%%time\n",
    "\n",
    "download_zenodo_files(\n",
    "    zenodo_doi=cat[\"MESH_AUX3D\"].metadata[\"zenodo_doi\"],\n",
    "    target_directory=Path(cat[\"MESH_AUX3D\"].urlpath).parent,\n",
    "    force_download=False, \n",
    "    filter_pattern=\"*\"\n",
    ")"
   ]
  },
  {
   "cell_type": "code",
   "execution_count": 12,
   "metadata": {},
   "outputs": [
    {
     "data": {
      "application/vnd.jupyter.widget-view+json": {
       "model_id": "",
       "version_major": 2,
       "version_minor": 0
      },
      "text/plain": [
       "HBox(children=(FloatProgress(value=1.0, bar_style='info', description='pi.tar.gz', max=1.0, style=ProgressStyl…"
      ]
     },
     "metadata": {},
     "output_type": "display_data"
    },
    {
     "data": {
      "text/html": [
       "<div>\n",
       "<style scoped>\n",
       "    .dataframe tbody tr th:only-of-type {\n",
       "        vertical-align: middle;\n",
       "    }\n",
       "\n",
       "    .dataframe tbody tr th {\n",
       "        vertical-align: top;\n",
       "    }\n",
       "\n",
       "    .dataframe thead th {\n",
       "        text-align: right;\n",
       "    }\n",
       "</style>\n",
       "<table border=\"1\" class=\"dataframe\">\n",
       "  <thead>\n",
       "    <tr style=\"text-align: right;\">\n",
       "      <th></th>\n",
       "      <th>topo</th>\n",
       "    </tr>\n",
       "  </thead>\n",
       "  <tbody>\n",
       "    <tr>\n",
       "      <th>0</th>\n",
       "      <td>-672</td>\n",
       "    </tr>\n",
       "    <tr>\n",
       "      <th>1</th>\n",
       "      <td>-534</td>\n",
       "    </tr>\n",
       "    <tr>\n",
       "      <th>2</th>\n",
       "      <td>-621</td>\n",
       "    </tr>\n",
       "    <tr>\n",
       "      <th>3</th>\n",
       "      <td>-744</td>\n",
       "    </tr>\n",
       "    <tr>\n",
       "      <th>4</th>\n",
       "      <td>-594</td>\n",
       "    </tr>\n",
       "    <tr>\n",
       "      <th>...</th>\n",
       "      <td>...</td>\n",
       "    </tr>\n",
       "    <tr>\n",
       "      <th>3135</th>\n",
       "      <td>-1200</td>\n",
       "    </tr>\n",
       "    <tr>\n",
       "      <th>3136</th>\n",
       "      <td>-850</td>\n",
       "    </tr>\n",
       "    <tr>\n",
       "      <th>3137</th>\n",
       "      <td>-560</td>\n",
       "    </tr>\n",
       "    <tr>\n",
       "      <th>3138</th>\n",
       "      <td>-121</td>\n",
       "    </tr>\n",
       "    <tr>\n",
       "      <th>3139</th>\n",
       "      <td>-209</td>\n",
       "    </tr>\n",
       "  </tbody>\n",
       "</table>\n",
       "<p>3140 rows × 1 columns</p>\n",
       "</div>"
      ],
      "text/plain": [
       "      topo\n",
       "0     -672\n",
       "1     -534\n",
       "2     -621\n",
       "3     -744\n",
       "4     -594\n",
       "...    ...\n",
       "3135 -1200\n",
       "3136  -850\n",
       "3137  -560\n",
       "3138  -121\n",
       "3139  -209\n",
       "\n",
       "[3140 rows x 1 columns]"
      ]
     },
     "execution_count": 12,
     "metadata": {},
     "output_type": "execute_result"
    }
   ],
   "source": [
    "cat[\"MESH_AUX3D\"].cache[0].clear_all()\n",
    "cat[\"MESH_AUX3D\"].read()"
   ]
  },
  {
   "cell_type": "code",
   "execution_count": 13,
   "metadata": {},
   "outputs": [
    {
     "data": {
      "application/vnd.jupyter.widget-view+json": {
       "model_id": "",
       "version_major": 2,
       "version_minor": 0
      },
      "text/plain": [
       "HBox(children=(FloatProgress(value=1.0, bar_style='info', description='pi.tar.gz', max=1.0, style=ProgressStyl…"
      ]
     },
     "metadata": {},
     "output_type": "display_data"
    },
    {
     "data": {
      "text/html": [
       "<div>\n",
       "<style scoped>\n",
       "    .dataframe tbody tr th:only-of-type {\n",
       "        vertical-align: middle;\n",
       "    }\n",
       "\n",
       "    .dataframe tbody tr th {\n",
       "        vertical-align: top;\n",
       "    }\n",
       "\n",
       "    .dataframe thead th {\n",
       "        text-align: right;\n",
       "    }\n",
       "</style>\n",
       "<table border=\"1\" class=\"dataframe\">\n",
       "  <thead>\n",
       "    <tr style=\"text-align: right;\">\n",
       "      <th></th>\n",
       "      <th>node_number</th>\n",
       "      <th>x</th>\n",
       "      <th>y</th>\n",
       "      <th>flag</th>\n",
       "    </tr>\n",
       "  </thead>\n",
       "  <tbody>\n",
       "    <tr>\n",
       "      <th>0</th>\n",
       "      <td>1</td>\n",
       "      <td>267.4665</td>\n",
       "      <td>84.5252</td>\n",
       "      <td>0</td>\n",
       "    </tr>\n",
       "    <tr>\n",
       "      <th>1</th>\n",
       "      <td>2</td>\n",
       "      <td>270.9702</td>\n",
       "      <td>84.3700</td>\n",
       "      <td>0</td>\n",
       "    </tr>\n",
       "    <tr>\n",
       "      <th>2</th>\n",
       "      <td>3</td>\n",
       "      <td>268.3207</td>\n",
       "      <td>84.0503</td>\n",
       "      <td>0</td>\n",
       "    </tr>\n",
       "    <tr>\n",
       "      <th>3</th>\n",
       "      <td>4</td>\n",
       "      <td>263.8669</td>\n",
       "      <td>84.5900</td>\n",
       "      <td>0</td>\n",
       "    </tr>\n",
       "    <tr>\n",
       "      <th>4</th>\n",
       "      <td>5</td>\n",
       "      <td>264.3323</td>\n",
       "      <td>84.2140</td>\n",
       "      <td>0</td>\n",
       "    </tr>\n",
       "    <tr>\n",
       "      <th>...</th>\n",
       "      <td>...</td>\n",
       "      <td>...</td>\n",
       "      <td>...</td>\n",
       "      <td>...</td>\n",
       "    </tr>\n",
       "    <tr>\n",
       "      <th>3135</th>\n",
       "      <td>3136</td>\n",
       "      <td>139.7089</td>\n",
       "      <td>-79.0173</td>\n",
       "      <td>0</td>\n",
       "    </tr>\n",
       "    <tr>\n",
       "      <th>3136</th>\n",
       "      <td>3137</td>\n",
       "      <td>144.1223</td>\n",
       "      <td>-79.2533</td>\n",
       "      <td>0</td>\n",
       "    </tr>\n",
       "    <tr>\n",
       "      <th>3137</th>\n",
       "      <td>3138</td>\n",
       "      <td>148.0000</td>\n",
       "      <td>-80.3240</td>\n",
       "      <td>1</td>\n",
       "    </tr>\n",
       "    <tr>\n",
       "      <th>3138</th>\n",
       "      <td>3139</td>\n",
       "      <td>135.7037</td>\n",
       "      <td>-79.9329</td>\n",
       "      <td>1</td>\n",
       "    </tr>\n",
       "    <tr>\n",
       "      <th>3139</th>\n",
       "      <td>3140</td>\n",
       "      <td>141.5839</td>\n",
       "      <td>-80.1193</td>\n",
       "      <td>1</td>\n",
       "    </tr>\n",
       "  </tbody>\n",
       "</table>\n",
       "<p>3140 rows × 4 columns</p>\n",
       "</div>"
      ],
      "text/plain": [
       "      node_number         x        y  flag\n",
       "0               1  267.4665  84.5252     0\n",
       "1               2  270.9702  84.3700     0\n",
       "2               3  268.3207  84.0503     0\n",
       "3               4  263.8669  84.5900     0\n",
       "4               5  264.3323  84.2140     0\n",
       "...           ...       ...      ...   ...\n",
       "3135         3136  139.7089 -79.0173     0\n",
       "3136         3137  144.1223 -79.2533     0\n",
       "3137         3138  148.0000 -80.3240     1\n",
       "3138         3139  135.7037 -79.9329     1\n",
       "3139         3140  141.5839 -80.1193     1\n",
       "\n",
       "[3140 rows x 4 columns]"
      ]
     },
     "execution_count": 13,
     "metadata": {},
     "output_type": "execute_result"
    }
   ],
   "source": [
    "cat[\"MESH_NOD2D\"].cache[0].clear_all()\n",
    "cat[\"MESH_NOD2D\"].read()"
   ]
  },
  {
   "cell_type": "code",
   "execution_count": 14,
   "metadata": {},
   "outputs": [
    {
     "data": {
      "application/vnd.jupyter.widget-view+json": {
       "model_id": "",
       "version_major": 2,
       "version_minor": 0
      },
      "text/plain": [
       "HBox(children=(FloatProgress(value=1.0, bar_style='info', description='pi.tar.gz', max=1.0, style=ProgressStyl…"
      ]
     },
     "metadata": {},
     "output_type": "display_data"
    },
    {
     "data": {
      "text/html": [
       "<div>\n",
       "<style scoped>\n",
       "    .dataframe tbody tr th:only-of-type {\n",
       "        vertical-align: middle;\n",
       "    }\n",
       "\n",
       "    .dataframe tbody tr th {\n",
       "        vertical-align: top;\n",
       "    }\n",
       "\n",
       "    .dataframe thead th {\n",
       "        text-align: right;\n",
       "    }\n",
       "</style>\n",
       "<table border=\"1\" class=\"dataframe\">\n",
       "  <thead>\n",
       "    <tr style=\"text-align: right;\">\n",
       "      <th></th>\n",
       "      <th>first_elem</th>\n",
       "      <th>second_elem</th>\n",
       "      <th>third_elem</th>\n",
       "    </tr>\n",
       "  </thead>\n",
       "  <tbody>\n",
       "    <tr>\n",
       "      <th>0</th>\n",
       "      <td>1</td>\n",
       "      <td>12</td>\n",
       "      <td>2</td>\n",
       "    </tr>\n",
       "    <tr>\n",
       "      <th>1</th>\n",
       "      <td>2</td>\n",
       "      <td>12</td>\n",
       "      <td>10</td>\n",
       "    </tr>\n",
       "    <tr>\n",
       "      <th>2</th>\n",
       "      <td>2</td>\n",
       "      <td>10</td>\n",
       "      <td>9</td>\n",
       "    </tr>\n",
       "    <tr>\n",
       "      <th>3</th>\n",
       "      <td>3</td>\n",
       "      <td>1</td>\n",
       "      <td>2</td>\n",
       "    </tr>\n",
       "    <tr>\n",
       "      <th>4</th>\n",
       "      <td>3</td>\n",
       "      <td>5</td>\n",
       "      <td>1</td>\n",
       "    </tr>\n",
       "    <tr>\n",
       "      <th>...</th>\n",
       "      <td>...</td>\n",
       "      <td>...</td>\n",
       "      <td>...</td>\n",
       "    </tr>\n",
       "    <tr>\n",
       "      <th>5834</th>\n",
       "      <td>3138</td>\n",
       "      <td>3137</td>\n",
       "      <td>3132</td>\n",
       "    </tr>\n",
       "    <tr>\n",
       "      <th>5835</th>\n",
       "      <td>3138</td>\n",
       "      <td>3131</td>\n",
       "      <td>3133</td>\n",
       "    </tr>\n",
       "    <tr>\n",
       "      <th>5836</th>\n",
       "      <td>3139</td>\n",
       "      <td>3136</td>\n",
       "      <td>3140</td>\n",
       "    </tr>\n",
       "    <tr>\n",
       "      <th>5837</th>\n",
       "      <td>3139</td>\n",
       "      <td>3135</td>\n",
       "      <td>3134</td>\n",
       "    </tr>\n",
       "    <tr>\n",
       "      <th>5838</th>\n",
       "      <td>3140</td>\n",
       "      <td>3137</td>\n",
       "      <td>3138</td>\n",
       "    </tr>\n",
       "  </tbody>\n",
       "</table>\n",
       "<p>5839 rows × 3 columns</p>\n",
       "</div>"
      ],
      "text/plain": [
       "      first_elem  second_elem  third_elem\n",
       "0              1           12           2\n",
       "1              2           12          10\n",
       "2              2           10           9\n",
       "3              3            1           2\n",
       "4              3            5           1\n",
       "...          ...          ...         ...\n",
       "5834        3138         3137        3132\n",
       "5835        3138         3131        3133\n",
       "5836        3139         3136        3140\n",
       "5837        3139         3135        3134\n",
       "5838        3140         3137        3138\n",
       "\n",
       "[5839 rows x 3 columns]"
      ]
     },
     "execution_count": 14,
     "metadata": {},
     "output_type": "execute_result"
    }
   ],
   "source": [
    "cat[\"MESH_ELEM2D\"].cache[0].clear_all()\n",
    "cat[\"MESH_ELEM2D\"].read()"
   ]
  },
  {
   "cell_type": "code",
   "execution_count": 15,
   "metadata": {},
   "outputs": [
    {
     "name": "stdout",
     "output_type": "stream",
     "text": [
      "<xarray.Dataset>\n",
      "Dimensions:  (elem: 5839, nod2: 3140, nz: 48, nz1: 47, time: 12)\n",
      "Coordinates:\n",
      "  * time     (time) float64 2.678e+06 5.097e+06 ... 2.886e+07 3.154e+07\n",
      "Dimensions without coordinates: elem, nod2, nz, nz1\n",
      "Data variables:\n",
      "    Av       (time, elem, nz) float32 0.005085066 0.099402376 ... 0.0 0.0\n",
      "    Kv       (time, nod2, nz) float32 nan nan nan nan nan ... 0.0 0.0 0.0 0.0\n",
      "    MLD1     (time, nod2) float32 -75.19909 -77.151375 ... -33.665993 -32.839382\n",
      "    a_ice    (time, nod2) float32 0.98289865 0.9805132 0.9803011 ... 0.0 0.0 0.0\n",
      "    m_ice    (time, nod2) float32 1.1300349 1.1106514 1.1073328 ... 0.0 0.0 0.0\n",
      "    salt     (time, nod2, nz1) float32 nan nan nan nan nan ... 0.0 0.0 0.0 0.0\n",
      "    ssh      (time, nod2) float32 -0.5813815 -0.5792128 ... -1.5763197 -1.586672\n",
      "    sst      (time, nod2) float32 nan nan nan ... -1.517087 -1.5979521 -1.535592\n",
      "    temp     (time, nod2, nz1) float32 nan nan nan nan nan ... 0.0 0.0 0.0 0.0\n",
      "    u        (time, elem, nz1) float32 nan nan nan nan nan ... 0.0 0.0 0.0 0.0\n",
      "    uice     (time, nod2) float32 -0.0049194503 -0.0022439826 ... 0.0 0.0\n",
      "    unod     (time, nod2, nz1) float64 0.0008557 0.001066 0.001318 ... 0.0 0.0\n",
      "    v        (time, elem, nz1) float32 nan nan nan nan nan ... 0.0 0.0 0.0 0.0\n",
      "    vice     (time, nod2) float32 -0.0016801578 -0.0011981231 ... 0.0 0.0\n",
      "    vnod     (time, nod2, nz1) float64 0.0006255 0.0005963 0.0005808 ... 0.0 0.0\n",
      "    w        (time, nod2, nz) float32 nan nan nan nan nan ... 0.0 0.0 0.0 0.0\n"
     ]
    }
   ],
   "source": [
    "print(cat[\"FESOM2_sample\"].read())"
   ]
  }
 ],
 "metadata": {
  "kernelspec": {
   "display_name": "Python 3",
   "language": "python",
   "name": "python3"
  },
  "language_info": {
   "codemirror_mode": {
    "name": "ipython",
    "version": 3
   },
   "file_extension": ".py",
   "mimetype": "text/x-python",
   "name": "python",
   "nbconvert_exporter": "python",
   "pygments_lexer": "ipython3",
   "version": "3.7.6"
  }
 },
 "nbformat": 4,
 "nbformat_minor": 4
}
