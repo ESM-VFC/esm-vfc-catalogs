{
  "cells": [
    {
      "cell_type": "markdown",
      "source": [
        "# Prefetching test data"
      ],
      "metadata": {
        "nteract": {
          "transient": {
            "deleting": false
          }
        }
      }
    },
    {
      "cell_type": "markdown",
      "source": [
        "## Tech preamble"
      ],
      "metadata": {}
    },
    {
      "cell_type": "code",
      "source": [
        "import intake\n",
        "import os\n",
        "\n",
        "from esmvcf_cattools import fetch_zenodo_data"
      ],
      "outputs": [],
      "execution_count": null,
      "metadata": {}
    },
    {
      "cell_type": "markdown",
      "source": [
        "## Chose location to store the data"
      ],
      "metadata": {}
    },
    {
      "cell_type": "code",
      "source": [
        "os.environ[\"ESM_VFC_DATA_DIR\"] = str(Path(\"../esm_vfc_data_store/\").resolve())"
      ],
      "outputs": [],
      "execution_count": null,
      "metadata": {}
    },
    {
      "cell_type": "markdown",
      "source": [
        "## Open the catalog and fetch the data"
      ],
      "metadata": {}
    },
    {
      "cell_type": "code",
      "source": [
        "!ls -1 ../catalogs/*yaml"
      ],
      "outputs": [],
      "execution_count": null,
      "metadata": {}
    },
    {
      "cell_type": "markdown",
      "source": [
        "_**Note**_ that some of these refer to datasets that are 50GB in size! The `NEMO_GYRE_Test` is safe (only approx. 20MB) to use almost anywhere."
      ],
      "metadata": {}
    },
    {
      "cell_type": "code",
      "source": [
        "cat = intake.open_catalog(\"../catalogs/NEMO_GYRE_Test.yaml\")"
      ],
      "outputs": [],
      "execution_count": null,
      "metadata": {}
    },
    {
      "cell_type": "code",
      "source": [
        "fetch_zenodo_data?"
      ],
      "outputs": [],
      "execution_count": null,
      "metadata": {
        "collapsed": true,
        "outputExpanded": false,
        "jupyter": {
          "source_hidden": false,
          "outputs_hidden": false
        },
        "nteract": {
          "transient": {
            "deleting": false
          }
        }
      }
    },
    {
      "cell_type": "code",
      "source": [
        "for cat_entry in cat:\n",
        "    fetch_zenodo_data(cat[cat_entry])"
      ],
      "outputs": [],
      "execution_count": null,
      "metadata": {}
    },
    {
      "cell_type": "markdown",
      "source": [
        "## Open the datasets"
      ],
      "metadata": {}
    },
    {
      "cell_type": "code",
      "source": [
        "datasets = {k: v.to_dask() for k, v in cat.items()}"
      ],
      "outputs": [],
      "execution_count": null,
      "metadata": {}
    },
    {
      "cell_type": "code",
      "source": [
        "datasets"
      ],
      "outputs": [],
      "execution_count": null,
      "metadata": {}
    }
  ],
  "metadata": {
    "kernelspec": {
      "display_name": "Python [conda env:esm-vfc-catalogs]",
      "language": "python",
      "name": "conda-env-esm-vfc-catalogs-py"
    },
    "language_info": {
      "codemirror_mode": {
        "name": "ipython",
        "version": 3
      },
      "file_extension": ".py",
      "mimetype": "text/x-python",
      "name": "python",
      "nbconvert_exporter": "python",
      "pygments_lexer": "ipython3",
      "version": "3.8.2"
    },
    "nteract": {
      "version": "0.22.4"
    }
  },
  "nbformat": 4,
  "nbformat_minor": 4
}