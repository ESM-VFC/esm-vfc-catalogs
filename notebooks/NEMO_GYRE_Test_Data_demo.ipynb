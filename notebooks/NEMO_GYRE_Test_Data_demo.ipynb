{
 "cells": [
  {
   "cell_type": "code",
   "execution_count": 1,
   "metadata": {},
   "outputs": [],
   "source": [
    "import intake\n",
    "import os\n",
    "\n",
    "# make sure to set cache dir to something that's big enough!\n",
    "intake.config.conf['cache_dir'] = os.environ[\"WORK\"] + \"/intake_conf/cache/\"\n",
    "\n",
    "# we have a problem with the progress bar on Jupyter:\n",
    "intake.config.conf['cache_download_progress'] = False  "
   ]
  },
  {
   "cell_type": "code",
   "execution_count": 2,
   "metadata": {},
   "outputs": [
    {
     "data": {
      "text/plain": [
       "['NEMO GYRE test grid T',\n",
       " 'NEMO GYRE test grid U',\n",
       " 'NEMO GYRE test grid V',\n",
       " 'NEMO GYRE test grid W',\n",
       " 'NEMO GYRE test mesh mask']"
      ]
     },
     "metadata": {},
     "output_type": "display_data"
    }
   ],
   "source": [
    "nemo_gyre_cat = intake.open_catalog(\"../catalogs/NEMO_GYRE_Test_Data.yaml\")\n",
    "\n",
    "display(list(nemo_gyre_cat))"
   ]
  },
  {
   "cell_type": "code",
   "execution_count": 3,
   "metadata": {},
   "outputs": [],
   "source": [
    "nemo_gyre_datasets = {k: v.to_dask() for k, v in nemo_gyre_cat.items()}"
   ]
  },
  {
   "cell_type": "code",
   "execution_count": 4,
   "metadata": {},
   "outputs": [
    {
     "data": {
      "text/plain": [
       "{'NEMO GYRE test grid T': <xarray.Dataset>\n",
       " Dimensions:            (deptht: 31, tbnds: 2, time_counter: 72, x: 32, y: 22)\n",
       " Coordinates:\n",
       "   * deptht             (deptht) float32 4.9752655 15.096427 ... 4451.2593\n",
       "   * time_counter       (time_counter) float64 2.16e+05 6.48e+05 ... 3.089e+07\n",
       " Dimensions without coordinates: tbnds, x, y\n",
       " Data variables:\n",
       "     nav_lon            (y, x) float32 dask.array<chunksize=(22, 32), meta=np.ndarray>\n",
       "     nav_lat            (y, x) float32 dask.array<chunksize=(22, 32), meta=np.ndarray>\n",
       "     time_counter_bnds  (time_counter, tbnds) float64 dask.array<chunksize=(72, 2), meta=np.ndarray>\n",
       "     votemper           (time_counter, deptht, y, x) float32 dask.array<chunksize=(72, 31, 22, 32), meta=np.ndarray>\n",
       "     vosaline           (time_counter, deptht, y, x) float32 dask.array<chunksize=(72, 31, 22, 32), meta=np.ndarray>\n",
       "     sosstsst           (time_counter, y, x) float32 dask.array<chunksize=(72, 22, 32), meta=np.ndarray>\n",
       "     sosaline           (time_counter, y, x) float32 dask.array<chunksize=(72, 22, 32), meta=np.ndarray>\n",
       "     sossheig           (time_counter, y, x) float32 dask.array<chunksize=(72, 22, 32), meta=np.ndarray>\n",
       "     sowaflup           (time_counter, y, x) float32 dask.array<chunksize=(72, 22, 32), meta=np.ndarray>\n",
       "     sorunoff           (time_counter, y, x) float32 dask.array<chunksize=(72, 22, 32), meta=np.ndarray>\n",
       "     sosfldow           (time_counter, y, x) float32 dask.array<chunksize=(72, 22, 32), meta=np.ndarray>\n",
       "     sosst_cd           (time_counter, y, x) float32 dask.array<chunksize=(72, 22, 32), meta=np.ndarray>\n",
       "     sosss_cd           (time_counter, y, x) float32 dask.array<chunksize=(72, 22, 32), meta=np.ndarray>\n",
       "     sohefldo           (time_counter, y, x) float32 dask.array<chunksize=(72, 22, 32), meta=np.ndarray>\n",
       "     soshfldo           (time_counter, y, x) float32 dask.array<chunksize=(72, 22, 32), meta=np.ndarray>\n",
       "     somixhgt           (time_counter, y, x) float32 dask.array<chunksize=(72, 22, 32), meta=np.ndarray>\n",
       "     somxl010           (time_counter, y, x) float32 dask.array<chunksize=(72, 22, 32), meta=np.ndarray>\n",
       "     soicecov           (time_counter, y, x) float32 dask.array<chunksize=(72, 22, 32), meta=np.ndarray>\n",
       "     sowindsp           (time_counter, y, x) float32 dask.array<chunksize=(72, 22, 32), meta=np.ndarray>\n",
       "     sohefldp           (time_counter, y, x) float32 dask.array<chunksize=(72, 22, 32), meta=np.ndarray>\n",
       "     sowafldp           (time_counter, y, x) float32 dask.array<chunksize=(72, 22, 32), meta=np.ndarray>\n",
       "     sosafldp           (time_counter, y, x) float32 dask.array<chunksize=(72, 22, 32), meta=np.ndarray>\n",
       "     sobowlin           (y, x) float32 dask.array<chunksize=(22, 32), meta=np.ndarray>\n",
       " Attributes:\n",
       "     Conventions:  CF-1.1\n",
       "     production:   An IPSL model\n",
       "     TimeStamp:    27/09/2018 13:53:36 +0200\n",
       "     file_name:    GYRE_5d_00010101_00011230_grid_T.nc,\n",
       " 'NEMO GYRE test grid U': <xarray.Dataset>\n",
       " Dimensions:            (depthu: 31, tbnds: 2, time_counter: 72, x: 32, y: 22)\n",
       " Coordinates:\n",
       "   * depthu             (depthu) float32 4.9752655 15.096427 ... 4451.2593\n",
       "   * time_counter       (time_counter) float64 2.16e+05 6.48e+05 ... 3.089e+07\n",
       " Dimensions without coordinates: tbnds, x, y\n",
       " Data variables:\n",
       "     nav_lon            (y, x) float32 dask.array<chunksize=(22, 32), meta=np.ndarray>\n",
       "     nav_lat            (y, x) float32 dask.array<chunksize=(22, 32), meta=np.ndarray>\n",
       "     time_counter_bnds  (time_counter, tbnds) float64 dask.array<chunksize=(72, 2), meta=np.ndarray>\n",
       "     vozocrtx           (time_counter, depthu, y, x) float32 dask.array<chunksize=(72, 31, 22, 32), meta=np.ndarray>\n",
       "     sozotaux           (time_counter, y, x) float32 dask.array<chunksize=(72, 22, 32), meta=np.ndarray>\n",
       " Attributes:\n",
       "     Conventions:  CF-1.1\n",
       "     production:   An IPSL model\n",
       "     TimeStamp:    27/09/2018 13:54:04 +0200\n",
       "     file_name:    GYRE_5d_00010101_00011230_grid_U.nc,\n",
       " 'NEMO GYRE test grid V': <xarray.Dataset>\n",
       " Dimensions:            (depthv: 31, tbnds: 2, time_counter: 72, x: 32, y: 22)\n",
       " Coordinates:\n",
       "   * depthv             (depthv) float32 4.9752655 15.096427 ... 4451.2593\n",
       "   * time_counter       (time_counter) float64 2.16e+05 6.48e+05 ... 3.089e+07\n",
       " Dimensions without coordinates: tbnds, x, y\n",
       " Data variables:\n",
       "     nav_lon            (y, x) float32 dask.array<chunksize=(22, 32), meta=np.ndarray>\n",
       "     nav_lat            (y, x) float32 dask.array<chunksize=(22, 32), meta=np.ndarray>\n",
       "     time_counter_bnds  (time_counter, tbnds) float64 dask.array<chunksize=(72, 2), meta=np.ndarray>\n",
       "     vomecrty           (time_counter, depthv, y, x) float32 dask.array<chunksize=(72, 31, 22, 32), meta=np.ndarray>\n",
       "     sometauy           (time_counter, y, x) float32 dask.array<chunksize=(72, 22, 32), meta=np.ndarray>\n",
       " Attributes:\n",
       "     Conventions:  CF-1.1\n",
       "     production:   An IPSL model\n",
       "     TimeStamp:    27/09/2018 13:54:15 +0200\n",
       "     file_name:    GYRE_5d_00010101_00011230_grid_V.nc,\n",
       " 'NEMO GYRE test grid W': <xarray.Dataset>\n",
       " Dimensions:            (depthw: 31, tbnds: 2, time_counter: 72, x: 32, y: 22)\n",
       " Coordinates:\n",
       "   * depthw             (depthw) float32 0.0 10.003515 ... 4000.0 4300.71\n",
       "   * time_counter       (time_counter) float64 2.16e+05 6.48e+05 ... 3.089e+07\n",
       " Dimensions without coordinates: tbnds, x, y\n",
       " Data variables:\n",
       "     nav_lon            (y, x) float32 dask.array<chunksize=(22, 32), meta=np.ndarray>\n",
       "     nav_lat            (y, x) float32 dask.array<chunksize=(22, 32), meta=np.ndarray>\n",
       "     time_counter_bnds  (time_counter, tbnds) float64 dask.array<chunksize=(72, 2), meta=np.ndarray>\n",
       "     vovecrtz           (time_counter, depthw, y, x) float32 dask.array<chunksize=(72, 31, 22, 32), meta=np.ndarray>\n",
       "     votkeavt           (time_counter, depthw, y, x) float32 dask.array<chunksize=(72, 31, 22, 32), meta=np.ndarray>\n",
       "     votkeavm           (time_counter, depthw, y, x) float32 dask.array<chunksize=(72, 31, 22, 32), meta=np.ndarray>\n",
       " Attributes:\n",
       "     Conventions:  CF-1.1\n",
       "     production:   An IPSL model\n",
       "     TimeStamp:    27/09/2018 13:54:25 +0200\n",
       "     file_name:    GYRE_5d_00010101_00011230_grid_W.nc,\n",
       " 'NEMO GYRE test mesh mask': <xarray.Dataset>\n",
       " Dimensions:       (t: 1, x: 32, y: 22, z: 31)\n",
       " Dimensions without coordinates: t, x, y, z\n",
       " Data variables:\n",
       "     nav_lon       (y, x) float32 dask.array<chunksize=(22, 32), meta=np.ndarray>\n",
       "     nav_lat       (y, x) float32 dask.array<chunksize=(22, 32), meta=np.ndarray>\n",
       "     nav_lev       (z) float32 dask.array<chunksize=(31,), meta=np.ndarray>\n",
       "     time_counter  (t) float64 dask.array<chunksize=(1,), meta=np.ndarray>\n",
       "     tmask         (t, z, y, x) int8 dask.array<chunksize=(1, 31, 22, 32), meta=np.ndarray>\n",
       "     umask         (t, z, y, x) int8 dask.array<chunksize=(1, 31, 22, 32), meta=np.ndarray>\n",
       "     vmask         (t, z, y, x) int8 dask.array<chunksize=(1, 31, 22, 32), meta=np.ndarray>\n",
       "     fmask         (t, z, y, x) int8 dask.array<chunksize=(1, 31, 22, 32), meta=np.ndarray>\n",
       "     tmaskutil     (t, y, x) int8 dask.array<chunksize=(1, 22, 32), meta=np.ndarray>\n",
       "     umaskutil     (t, y, x) int8 dask.array<chunksize=(1, 22, 32), meta=np.ndarray>\n",
       "     vmaskutil     (t, y, x) int8 dask.array<chunksize=(1, 22, 32), meta=np.ndarray>\n",
       "     fmaskutil     (t, y, x) int8 dask.array<chunksize=(1, 22, 32), meta=np.ndarray>\n",
       "     glamt         (t, y, x) float32 dask.array<chunksize=(1, 22, 32), meta=np.ndarray>\n",
       "     glamu         (t, y, x) float32 dask.array<chunksize=(1, 22, 32), meta=np.ndarray>\n",
       "     glamv         (t, y, x) float32 dask.array<chunksize=(1, 22, 32), meta=np.ndarray>\n",
       "     glamf         (t, y, x) float32 dask.array<chunksize=(1, 22, 32), meta=np.ndarray>\n",
       "     gphit         (t, y, x) float32 dask.array<chunksize=(1, 22, 32), meta=np.ndarray>\n",
       "     gphiu         (t, y, x) float32 dask.array<chunksize=(1, 22, 32), meta=np.ndarray>\n",
       "     gphiv         (t, y, x) float32 dask.array<chunksize=(1, 22, 32), meta=np.ndarray>\n",
       "     gphif         (t, y, x) float32 dask.array<chunksize=(1, 22, 32), meta=np.ndarray>\n",
       "     e1t           (t, y, x) float64 dask.array<chunksize=(1, 22, 32), meta=np.ndarray>\n",
       "     e1u           (t, y, x) float64 dask.array<chunksize=(1, 22, 32), meta=np.ndarray>\n",
       "     e1v           (t, y, x) float64 dask.array<chunksize=(1, 22, 32), meta=np.ndarray>\n",
       "     e1f           (t, y, x) float64 dask.array<chunksize=(1, 22, 32), meta=np.ndarray>\n",
       "     e2t           (t, y, x) float64 dask.array<chunksize=(1, 22, 32), meta=np.ndarray>\n",
       "     e2u           (t, y, x) float64 dask.array<chunksize=(1, 22, 32), meta=np.ndarray>\n",
       "     e2v           (t, y, x) float64 dask.array<chunksize=(1, 22, 32), meta=np.ndarray>\n",
       "     e2f           (t, y, x) float64 dask.array<chunksize=(1, 22, 32), meta=np.ndarray>\n",
       "     ff            (t, y, x) float64 dask.array<chunksize=(1, 22, 32), meta=np.ndarray>\n",
       "     mbathy        (t, y, x) int16 dask.array<chunksize=(1, 22, 32), meta=np.ndarray>\n",
       "     misf          (t, y, x) int16 dask.array<chunksize=(1, 22, 32), meta=np.ndarray>\n",
       "     isfdraft      (t, y, x) float32 dask.array<chunksize=(1, 22, 32), meta=np.ndarray>\n",
       "     gdept_1d      (t, z) float64 dask.array<chunksize=(1, 31), meta=np.ndarray>\n",
       "     gdepw_1d      (t, z) float64 dask.array<chunksize=(1, 31), meta=np.ndarray>\n",
       "     e3t_1d        (t, z) float64 dask.array<chunksize=(1, 31), meta=np.ndarray>\n",
       "     e3w_1d        (t, z) float64 dask.array<chunksize=(1, 31), meta=np.ndarray>\n",
       " Attributes:\n",
       "     file_name:  mesh_mask.nc\n",
       "     TimeStamp:  27/09/2018 13:52:14 +0200}"
      ]
     },
     "metadata": {},
     "output_type": "display_data"
    }
   ],
   "source": [
    "display(nemo_gyre_datasets)"
   ]
  }
 ],
 "metadata": {
  "kernelspec": {
   "display_name": "Python [conda env:esm-vfc-catalogs]",
   "language": "python",
   "name": "conda-env-esm-vfc-catalogs-py"
  },
  "language_info": {
   "codemirror_mode": {
    "name": "ipython",
    "version": 3
   },
   "file_extension": ".py",
   "mimetype": "text/x-python",
   "name": "python",
   "nbconvert_exporter": "python",
   "pygments_lexer": "ipython3",
   "version": "3.8.2"
  }
 },
 "nbformat": 4,
 "nbformat_minor": 4
}
