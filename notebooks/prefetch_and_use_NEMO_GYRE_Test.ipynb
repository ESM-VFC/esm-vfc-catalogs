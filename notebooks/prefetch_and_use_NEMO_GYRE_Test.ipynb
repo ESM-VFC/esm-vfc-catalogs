{
 "cells": [
  {
   "cell_type": "markdown",
   "metadata": {},
   "source": [
    "## Tech preamble"
   ]
  },
  {
   "cell_type": "code",
   "execution_count": 1,
   "metadata": {},
   "outputs": [],
   "source": [
    "import os\n",
    "import pycurl\n",
    "import intake\n",
    "from urllib.parse import urlparse\n",
    "from pathlib import Path"
   ]
  },
  {
   "cell_type": "markdown",
   "metadata": {},
   "source": [
    "## Chose location to store the data"
   ]
  },
  {
   "cell_type": "code",
   "execution_count": 2,
   "metadata": {},
   "outputs": [],
   "source": [
    "os.environ[\"ESM_VFC_DATA_DIR\"] = str(Path(\"../esm_vfc_data_store/\").resolve())"
   ]
  },
  {
   "cell_type": "markdown",
   "metadata": {},
   "source": [
    "## Use curl to retrieve the data\n",
    "\n",
    "We assume that there's a list of `data_urls` given in the meta datasection of each entry."
   ]
  },
  {
   "cell_type": "code",
   "execution_count": 3,
   "metadata": {},
   "outputs": [],
   "source": [
    "def fetch_data(catalog_entry, force_download=False):\n",
    "\n",
    "    # set output directory and ensure it exists\n",
    "    output_dir = Path(os.environ[\"ESM_VFC_DATA_DIR\"]) / catalog_entry.cat.name\n",
    "    output_dir.mkdir(parents=True, exist_ok=True)\n",
    "        \n",
    "    # for all urls, get data \n",
    "    for url in catalog_entry.metadata[\"data_urls\"]:\n",
    "\n",
    "        file_name = Path(urlparse(url).path).name\n",
    "        output_file = output_dir / file_name\n",
    "\n",
    "        if output_file.exists() and not force_download:\n",
    "            print(f\"No need to download {output_file}\")\n",
    "        else:\n",
    "            print(f\"downloading {output_file} ... \", end=\"\")\n",
    "            with open(output_file, 'wb') as f:\n",
    "                c = pycurl.Curl()\n",
    "                c.setopt(c.URL, url)\n",
    "                c.setopt(c.WRITEDATA, f)\n",
    "                c.perform()\n",
    "                c.close()\n",
    "            print(\"done\")"
   ]
  },
  {
   "cell_type": "markdown",
   "metadata": {},
   "source": [
    "## Open the catalog and fetch the data"
   ]
  },
  {
   "cell_type": "code",
   "execution_count": 4,
   "metadata": {},
   "outputs": [],
   "source": [
    "cat = intake.open_catalog(\"../catalogs/NEMO_GYRE_Test.yaml\")"
   ]
  },
  {
   "cell_type": "code",
   "execution_count": 5,
   "metadata": {},
   "outputs": [
    {
     "name": "stdout",
     "output_type": "stream",
     "text": [
      "downloading /Users/wrath/src/github.com/ESM-VFC/esm-vfc-catalogs/esm_vfc_data_store/NEMO_GYRE_Test/GYRE_5d_00010101_00011230_grid_T.nc ... done\n",
      "downloading /Users/wrath/src/github.com/ESM-VFC/esm-vfc-catalogs/esm_vfc_data_store/NEMO_GYRE_Test/GYRE_5d_00010101_00011230_grid_U.nc ... done\n",
      "downloading /Users/wrath/src/github.com/ESM-VFC/esm-vfc-catalogs/esm_vfc_data_store/NEMO_GYRE_Test/GYRE_5d_00010101_00011230_grid_V.nc ... done\n",
      "downloading /Users/wrath/src/github.com/ESM-VFC/esm-vfc-catalogs/esm_vfc_data_store/NEMO_GYRE_Test/GYRE_5d_00010101_00011230_grid_W.nc ... done\n",
      "downloading /Users/wrath/src/github.com/ESM-VFC/esm-vfc-catalogs/esm_vfc_data_store/NEMO_GYRE_Test/mesh_mask.nc ... done\n"
     ]
    }
   ],
   "source": [
    "for cat_entry in cat:\n",
    "    fetch_data(cat[cat_entry], force_download=True)"
   ]
  },
  {
   "cell_type": "markdown",
   "metadata": {},
   "source": [
    "## Open the datasets"
   ]
  },
  {
   "cell_type": "code",
   "execution_count": 6,
   "metadata": {},
   "outputs": [],
   "source": [
    "datasets = {k: v.to_dask() for k, v in cat.items()}"
   ]
  },
  {
   "cell_type": "code",
   "execution_count": 7,
   "metadata": {},
   "outputs": [
    {
     "data": {
      "text/plain": [
       "{'NEMO_GYRE_Test_grid_T': <xarray.Dataset>\n",
       " Dimensions:            (deptht: 31, tbnds: 2, time_counter: 72, x: 32, y: 22)\n",
       " Coordinates:\n",
       "   * deptht             (deptht) float32 4.9752655 15.096427 ... 4451.2593\n",
       "   * time_counter       (time_counter) float64 2.16e+05 6.48e+05 ... 3.089e+07\n",
       " Dimensions without coordinates: tbnds, x, y\n",
       " Data variables:\n",
       "     nav_lon            (y, x) float32 dask.array<chunksize=(22, 32), meta=np.ndarray>\n",
       "     nav_lat            (y, x) float32 dask.array<chunksize=(22, 32), meta=np.ndarray>\n",
       "     time_counter_bnds  (time_counter, tbnds) float64 dask.array<chunksize=(72, 2), meta=np.ndarray>\n",
       "     votemper           (time_counter, deptht, y, x) float32 dask.array<chunksize=(72, 31, 22, 32), meta=np.ndarray>\n",
       "     vosaline           (time_counter, deptht, y, x) float32 dask.array<chunksize=(72, 31, 22, 32), meta=np.ndarray>\n",
       "     sosstsst           (time_counter, y, x) float32 dask.array<chunksize=(72, 22, 32), meta=np.ndarray>\n",
       "     sosaline           (time_counter, y, x) float32 dask.array<chunksize=(72, 22, 32), meta=np.ndarray>\n",
       "     sossheig           (time_counter, y, x) float32 dask.array<chunksize=(72, 22, 32), meta=np.ndarray>\n",
       "     sowaflup           (time_counter, y, x) float32 dask.array<chunksize=(72, 22, 32), meta=np.ndarray>\n",
       "     sorunoff           (time_counter, y, x) float32 dask.array<chunksize=(72, 22, 32), meta=np.ndarray>\n",
       "     sosfldow           (time_counter, y, x) float32 dask.array<chunksize=(72, 22, 32), meta=np.ndarray>\n",
       "     sosst_cd           (time_counter, y, x) float32 dask.array<chunksize=(72, 22, 32), meta=np.ndarray>\n",
       "     sosss_cd           (time_counter, y, x) float32 dask.array<chunksize=(72, 22, 32), meta=np.ndarray>\n",
       "     sohefldo           (time_counter, y, x) float32 dask.array<chunksize=(72, 22, 32), meta=np.ndarray>\n",
       "     soshfldo           (time_counter, y, x) float32 dask.array<chunksize=(72, 22, 32), meta=np.ndarray>\n",
       "     somixhgt           (time_counter, y, x) float32 dask.array<chunksize=(72, 22, 32), meta=np.ndarray>\n",
       "     somxl010           (time_counter, y, x) float32 dask.array<chunksize=(72, 22, 32), meta=np.ndarray>\n",
       "     soicecov           (time_counter, y, x) float32 dask.array<chunksize=(72, 22, 32), meta=np.ndarray>\n",
       "     sowindsp           (time_counter, y, x) float32 dask.array<chunksize=(72, 22, 32), meta=np.ndarray>\n",
       "     sohefldp           (time_counter, y, x) float32 dask.array<chunksize=(72, 22, 32), meta=np.ndarray>\n",
       "     sowafldp           (time_counter, y, x) float32 dask.array<chunksize=(72, 22, 32), meta=np.ndarray>\n",
       "     sosafldp           (time_counter, y, x) float32 dask.array<chunksize=(72, 22, 32), meta=np.ndarray>\n",
       "     sobowlin           (y, x) float32 dask.array<chunksize=(22, 32), meta=np.ndarray>\n",
       " Attributes:\n",
       "     Conventions:  CF-1.1\n",
       "     production:   An IPSL model\n",
       "     TimeStamp:    27/09/2018 13:53:36 +0200\n",
       "     file_name:    GYRE_5d_00010101_00011230_grid_T.nc,\n",
       " 'NEMO_GYRE_Test_grid_U': <xarray.Dataset>\n",
       " Dimensions:            (depthu: 31, tbnds: 2, time_counter: 72, x: 32, y: 22)\n",
       " Coordinates:\n",
       "   * depthu             (depthu) float32 4.9752655 15.096427 ... 4451.2593\n",
       "   * time_counter       (time_counter) float64 2.16e+05 6.48e+05 ... 3.089e+07\n",
       " Dimensions without coordinates: tbnds, x, y\n",
       " Data variables:\n",
       "     nav_lon            (y, x) float32 dask.array<chunksize=(22, 32), meta=np.ndarray>\n",
       "     nav_lat            (y, x) float32 dask.array<chunksize=(22, 32), meta=np.ndarray>\n",
       "     time_counter_bnds  (time_counter, tbnds) float64 dask.array<chunksize=(72, 2), meta=np.ndarray>\n",
       "     vozocrtx           (time_counter, depthu, y, x) float32 dask.array<chunksize=(72, 31, 22, 32), meta=np.ndarray>\n",
       "     sozotaux           (time_counter, y, x) float32 dask.array<chunksize=(72, 22, 32), meta=np.ndarray>\n",
       " Attributes:\n",
       "     Conventions:  CF-1.1\n",
       "     production:   An IPSL model\n",
       "     TimeStamp:    27/09/2018 13:54:04 +0200\n",
       "     file_name:    GYRE_5d_00010101_00011230_grid_U.nc,\n",
       " 'NEMO_GYRE_Test_grid_V': <xarray.Dataset>\n",
       " Dimensions:            (depthv: 31, tbnds: 2, time_counter: 72, x: 32, y: 22)\n",
       " Coordinates:\n",
       "   * depthv             (depthv) float32 4.9752655 15.096427 ... 4451.2593\n",
       "   * time_counter       (time_counter) float64 2.16e+05 6.48e+05 ... 3.089e+07\n",
       " Dimensions without coordinates: tbnds, x, y\n",
       " Data variables:\n",
       "     nav_lon            (y, x) float32 dask.array<chunksize=(22, 32), meta=np.ndarray>\n",
       "     nav_lat            (y, x) float32 dask.array<chunksize=(22, 32), meta=np.ndarray>\n",
       "     time_counter_bnds  (time_counter, tbnds) float64 dask.array<chunksize=(72, 2), meta=np.ndarray>\n",
       "     vomecrty           (time_counter, depthv, y, x) float32 dask.array<chunksize=(72, 31, 22, 32), meta=np.ndarray>\n",
       "     sometauy           (time_counter, y, x) float32 dask.array<chunksize=(72, 22, 32), meta=np.ndarray>\n",
       " Attributes:\n",
       "     Conventions:  CF-1.1\n",
       "     production:   An IPSL model\n",
       "     TimeStamp:    27/09/2018 13:54:15 +0200\n",
       "     file_name:    GYRE_5d_00010101_00011230_grid_V.nc,\n",
       " 'NEMO_GYRE_Test_grid_W': <xarray.Dataset>\n",
       " Dimensions:            (depthw: 31, tbnds: 2, time_counter: 72, x: 32, y: 22)\n",
       " Coordinates:\n",
       "   * depthw             (depthw) float32 0.0 10.003515 ... 4000.0 4300.71\n",
       "   * time_counter       (time_counter) float64 2.16e+05 6.48e+05 ... 3.089e+07\n",
       " Dimensions without coordinates: tbnds, x, y\n",
       " Data variables:\n",
       "     nav_lon            (y, x) float32 dask.array<chunksize=(22, 32), meta=np.ndarray>\n",
       "     nav_lat            (y, x) float32 dask.array<chunksize=(22, 32), meta=np.ndarray>\n",
       "     time_counter_bnds  (time_counter, tbnds) float64 dask.array<chunksize=(72, 2), meta=np.ndarray>\n",
       "     vovecrtz           (time_counter, depthw, y, x) float32 dask.array<chunksize=(72, 31, 22, 32), meta=np.ndarray>\n",
       "     votkeavt           (time_counter, depthw, y, x) float32 dask.array<chunksize=(72, 31, 22, 32), meta=np.ndarray>\n",
       "     votkeavm           (time_counter, depthw, y, x) float32 dask.array<chunksize=(72, 31, 22, 32), meta=np.ndarray>\n",
       " Attributes:\n",
       "     Conventions:  CF-1.1\n",
       "     production:   An IPSL model\n",
       "     TimeStamp:    27/09/2018 13:54:25 +0200\n",
       "     file_name:    GYRE_5d_00010101_00011230_grid_W.nc,\n",
       " 'NEMO_GYRE_Test_mesh_mask': <xarray.Dataset>\n",
       " Dimensions:       (t: 1, x: 32, y: 22, z: 31)\n",
       " Dimensions without coordinates: t, x, y, z\n",
       " Data variables:\n",
       "     nav_lon       (y, x) float32 dask.array<chunksize=(22, 32), meta=np.ndarray>\n",
       "     nav_lat       (y, x) float32 dask.array<chunksize=(22, 32), meta=np.ndarray>\n",
       "     nav_lev       (z) float32 dask.array<chunksize=(31,), meta=np.ndarray>\n",
       "     time_counter  (t) float64 dask.array<chunksize=(1,), meta=np.ndarray>\n",
       "     tmask         (t, z, y, x) int8 dask.array<chunksize=(1, 31, 22, 32), meta=np.ndarray>\n",
       "     umask         (t, z, y, x) int8 dask.array<chunksize=(1, 31, 22, 32), meta=np.ndarray>\n",
       "     vmask         (t, z, y, x) int8 dask.array<chunksize=(1, 31, 22, 32), meta=np.ndarray>\n",
       "     fmask         (t, z, y, x) int8 dask.array<chunksize=(1, 31, 22, 32), meta=np.ndarray>\n",
       "     tmaskutil     (t, y, x) int8 dask.array<chunksize=(1, 22, 32), meta=np.ndarray>\n",
       "     umaskutil     (t, y, x) int8 dask.array<chunksize=(1, 22, 32), meta=np.ndarray>\n",
       "     vmaskutil     (t, y, x) int8 dask.array<chunksize=(1, 22, 32), meta=np.ndarray>\n",
       "     fmaskutil     (t, y, x) int8 dask.array<chunksize=(1, 22, 32), meta=np.ndarray>\n",
       "     glamt         (t, y, x) float32 dask.array<chunksize=(1, 22, 32), meta=np.ndarray>\n",
       "     glamu         (t, y, x) float32 dask.array<chunksize=(1, 22, 32), meta=np.ndarray>\n",
       "     glamv         (t, y, x) float32 dask.array<chunksize=(1, 22, 32), meta=np.ndarray>\n",
       "     glamf         (t, y, x) float32 dask.array<chunksize=(1, 22, 32), meta=np.ndarray>\n",
       "     gphit         (t, y, x) float32 dask.array<chunksize=(1, 22, 32), meta=np.ndarray>\n",
       "     gphiu         (t, y, x) float32 dask.array<chunksize=(1, 22, 32), meta=np.ndarray>\n",
       "     gphiv         (t, y, x) float32 dask.array<chunksize=(1, 22, 32), meta=np.ndarray>\n",
       "     gphif         (t, y, x) float32 dask.array<chunksize=(1, 22, 32), meta=np.ndarray>\n",
       "     e1t           (t, y, x) float64 dask.array<chunksize=(1, 22, 32), meta=np.ndarray>\n",
       "     e1u           (t, y, x) float64 dask.array<chunksize=(1, 22, 32), meta=np.ndarray>\n",
       "     e1v           (t, y, x) float64 dask.array<chunksize=(1, 22, 32), meta=np.ndarray>\n",
       "     e1f           (t, y, x) float64 dask.array<chunksize=(1, 22, 32), meta=np.ndarray>\n",
       "     e2t           (t, y, x) float64 dask.array<chunksize=(1, 22, 32), meta=np.ndarray>\n",
       "     e2u           (t, y, x) float64 dask.array<chunksize=(1, 22, 32), meta=np.ndarray>\n",
       "     e2v           (t, y, x) float64 dask.array<chunksize=(1, 22, 32), meta=np.ndarray>\n",
       "     e2f           (t, y, x) float64 dask.array<chunksize=(1, 22, 32), meta=np.ndarray>\n",
       "     ff            (t, y, x) float64 dask.array<chunksize=(1, 22, 32), meta=np.ndarray>\n",
       "     mbathy        (t, y, x) int16 dask.array<chunksize=(1, 22, 32), meta=np.ndarray>\n",
       "     misf          (t, y, x) int16 dask.array<chunksize=(1, 22, 32), meta=np.ndarray>\n",
       "     isfdraft      (t, y, x) float32 dask.array<chunksize=(1, 22, 32), meta=np.ndarray>\n",
       "     gdept_1d      (t, z) float64 dask.array<chunksize=(1, 31), meta=np.ndarray>\n",
       "     gdepw_1d      (t, z) float64 dask.array<chunksize=(1, 31), meta=np.ndarray>\n",
       "     e3t_1d        (t, z) float64 dask.array<chunksize=(1, 31), meta=np.ndarray>\n",
       "     e3w_1d        (t, z) float64 dask.array<chunksize=(1, 31), meta=np.ndarray>\n",
       " Attributes:\n",
       "     file_name:  mesh_mask.nc\n",
       "     TimeStamp:  27/09/2018 13:52:14 +0200}"
      ]
     },
     "execution_count": 7,
     "metadata": {},
     "output_type": "execute_result"
    }
   ],
   "source": [
    "datasets"
   ]
  }
 ],
 "metadata": {
  "kernelspec": {
   "display_name": "Python [conda env:esm-vfc-catalogs]",
   "language": "python",
   "name": "conda-env-esm-vfc-catalogs-py"
  },
  "language_info": {
   "codemirror_mode": {
    "name": "ipython",
    "version": 3
   },
   "file_extension": ".py",
   "mimetype": "text/x-python",
   "name": "python",
   "nbconvert_exporter": "python",
   "pygments_lexer": "ipython3",
   "version": "3.8.2"
  }
 },
 "nbformat": 4,
 "nbformat_minor": 4
}
